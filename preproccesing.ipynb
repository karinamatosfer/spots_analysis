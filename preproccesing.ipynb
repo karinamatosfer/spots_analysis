{
 "cells": [
  {
   "cell_type": "code",
   "execution_count": 1,
   "metadata": {
    "collapsed": true
   },
   "outputs": [],
   "source": [
    "import sys\n",
    "sys.path.append(r'C:\\Users\\kmm171\\ImageAnalysis\\caImageAnalysis')\n",
    "\n",
    "import main.main_legacy as legacy\n",
    "from pathlib import Path\n",
    "import os\n",
    "import shutil\n",
    "from tqdm import tqdm"
   ]
  },
  {
   "cell_type": "code",
   "execution_count": 2,
   "outputs": [
    {
     "data": {
      "text/plain": "{5: 'C:\\\\Users\\\\kmm171\\\\Desktop\\\\Data\\\\gut_tectum\\\\20230914_7dpf\\\\fish1\\\\54_huch2bgcamp6s_7dpf_unfed_mono_L_20230914'}"
     },
     "execution_count": 2,
     "metadata": {},
     "output_type": "execute_result"
    }
   ],
   "source": [
    "fishpaths = {\n",
    "    #1: r\"C:\\Users\\kmm171\\Desktop\\Data\\gut_tectum\\20230821_8dpf\\unfed\\fish1\\41_huch2bgcamp6s_8dpf_unfed_mono_R_20230821\",\n",
    "    #2: r\"C:\\Users\\kmm171\\Desktop\\Data\\gut_tectum\\20230821_8dpf\\unfed\\fish3\\43_huch2bgcamp6s_8dpf_unfed_mono_R_20230821\",\n",
    "    #3: r\"C:\\Users\\kmm171\\Desktop\\Data\\gut_tectum\\20230821_8dpf\\fed\\fish4\\44_huch2bgcamp6s_8dpf_fed_mono_R_20230821\",\n",
    "    #4: r\"C:\\Users\\kmm171\\Desktop\\Data\\gut_tectum\\20230821_8dpf\\fed\\fish5\\45_huch2bgcamp6s_8dpf_fed_mono_L_20230821\",\n",
    "    5: r\"C:\\Users\\kmm171\\Desktop\\Data\\gut_tectum\\20230914_7dpf\\fish1\\54_huch2bgcamp6s_7dpf_unfed_mono_L_20230914\"\n",
    "}\n",
    "fishpaths"
   ],
   "metadata": {
    "collapsed": false
   }
  },
  {
   "cell_type": "code",
   "execution_count": 3,
   "outputs": [],
   "source": [
    "#Create a class for each fish\n",
    "fishSchool = {}\n",
    "for fish, path in fishpaths.items():\n",
    "    volfish = legacy.Fish(path, stimkey=\"output\")\n",
    "    fishSchool[fish] = volfish"
   ],
   "metadata": {
    "collapsed": false
   }
  },
  {
   "cell_type": "markdown",
   "source": [
    "## Volume split"
   ],
   "metadata": {
    "collapsed": false
   }
  },
  {
   "cell_type": "code",
   "execution_count": 15,
   "outputs": [
    {
     "name": "stderr",
     "output_type": "stream",
     "text": [
      "  0%|          | 0/3 [00:00<?, ?it/s]C:\\Users\\kmm171\\ImageAnalysis\\main\\main_legacy.py:997: PerformanceWarning: \n",
      "your performance may suffer as PyTables will pickle object types that it cannot\n",
      "map directly to c-types [inferred_type->time,key->block0_values] [items->Index(['time'], dtype='object')]\n",
      "\n",
      "  self.frametimes_df.loc[imgInds].to_hdf(subStackFtPath, key=\"frametimes\")  # PerformanceWarning: your performance may suffer as PyTables will pickle object types that it cannot map directly to c-types [inferred_type->time,key->block0_values] [items->Index(['time'], dtype='object')]\n",
      " 33%|███▎      | 1/3 [00:01<00:02,  1.32s/it]C:\\Users\\kmm171\\ImageAnalysis\\main\\main_legacy.py:997: PerformanceWarning: \n",
      "your performance may suffer as PyTables will pickle object types that it cannot\n",
      "map directly to c-types [inferred_type->time,key->block0_values] [items->Index(['time'], dtype='object')]\n",
      "\n",
      "  self.frametimes_df.loc[imgInds].to_hdf(subStackFtPath, key=\"frametimes\")  # PerformanceWarning: your performance may suffer as PyTables will pickle object types that it cannot map directly to c-types [inferred_type->time,key->block0_values] [items->Index(['time'], dtype='object')]\n",
      " 67%|██████▋   | 2/3 [00:02<00:01,  1.00s/it]C:\\Users\\kmm171\\ImageAnalysis\\main\\main_legacy.py:997: PerformanceWarning: \n",
      "your performance may suffer as PyTables will pickle object types that it cannot\n",
      "map directly to c-types [inferred_type->time,key->block0_values] [items->Index(['time'], dtype='object')]\n",
      "\n",
      "  self.frametimes_df.loc[imgInds].to_hdf(subStackFtPath, key=\"frametimes\")  # PerformanceWarning: your performance may suffer as PyTables will pickle object types that it cannot map directly to c-types [inferred_type->time,key->block0_values] [items->Index(['time'], dtype='object')]\n",
      "100%|██████████| 3/3 [00:02<00:00,  1.03it/s]\n"
     ]
    }
   ],
   "source": [
    "for fish, volfish in fishSchool.items():\n",
    "    volfish.legacy_volumesplit(force=True, crop=False)"
   ],
   "metadata": {
    "collapsed": false
   }
  },
  {
   "cell_type": "markdown",
   "source": [
    "## Movement correction CaImAn"
   ],
   "metadata": {
    "collapsed": false
   }
  },
  {
   "cell_type": "code",
   "execution_count": null,
   "outputs": [],
   "source": [
    "for fish, volfish in fishSchool.items():\n",
    "    volfish.volumeMoveCorrection(force=True)"
   ],
   "metadata": {
    "collapsed": false,
    "pycharm": {
     "is_executing": true
    }
   }
  },
  {
   "cell_type": "code",
   "execution_count": null,
   "outputs": [],
   "source": [
    "for fish, volfish in fishSchool.items():\n",
    "    volfish.moveoriginalimage()"
   ],
   "metadata": {
    "collapsed": false
   }
  },
  {
   "cell_type": "markdown",
   "source": [
    "## Cell identfication Suite2P"
   ],
   "metadata": {
    "collapsed": false
   }
  },
  {
   "cell_type": "code",
   "execution_count": 5,
   "outputs": [
    {
     "name": "stderr",
     "output_type": "stream",
     "text": [
      "planes:   0%|          | 0/3 [00:00<?, ?it/s]"
     ]
    },
    {
     "name": "stdout",
     "output_type": "stream",
     "text": [
      "{}\n",
      "FOUND BINARIES AND OPS IN ['C:/Users/kmm171/Desktop/Data/gut_tectum/20230914_7dpf/fish1/54_huch2bgcamp6s_7dpf_unfed_mono_L_20230914/img_stack_0\\\\suite2p\\\\plane0\\\\ops.npy']\n",
      ">>>>>>>>>>>>>>>>>>>>> PLANE 0 <<<<<<<<<<<<<<<<<<<<<<\n",
      "NOTE: not running registration, plane already registered\n",
      "binary path: C:/Users/kmm171/Desktop/Data/gut_tectum/20230914_7dpf/fish1/54_huch2bgcamp6s_7dpf_unfed_mono_L_20230914/img_stack_0\\suite2p\\plane0\\data.bin\n",
      "NOTE: applying default C:\\Users\\kmm171\\.suite2p\\classifiers\\classifier_user.npy\n",
      "----------- ROI DETECTION\n",
      "Binning movie in chunks of length 03\n",
      "Binned movie of size [575,242,242] created in 0.54 sec.\n",
      "NOTE: estimated spatial scale ~12 pixels, time epochs 1.00, threshold 10.00 \n",
      "0 ROIs, score=154.94\n",
      "Detected 582 ROIs, 13.24 sec\n",
      "['compact', 'npix_norm']\n",
      "Preclassify threshold 0.15, 433 ROIs removed\n",
      "After removing overlaps, 136 ROIs remain\n",
      "----------- Total 15.14 sec.\n",
      "----------- EXTRACTION\n",
      "Masks created, 0.12 sec.\n",
      "Extracted fluorescence from 136 ROIs in 1725 frames, 6.24 sec.\n",
      "----------- Total 6.40 sec.\n",
      "----------- CLASSIFICATION\n",
      "['compact', 'npix_norm', 'skew']\n",
      "----------- SPIKE DECONVOLUTION\n",
      "----------- Total 0.02 sec.\n",
      "Plane 0 processed in 21.64 sec (can open in GUI).\n",
      "total = 21.70 sec.\n",
      "TOTAL RUNTIME 21.70 sec\n"
     ]
    },
    {
     "name": "stderr",
     "output_type": "stream",
     "text": [
      "planes:  33%|███▎      | 1/3 [00:21<00:43, 21.72s/it]"
     ]
    },
    {
     "name": "stdout",
     "output_type": "stream",
     "text": [
      "imaging rate: 1.9610801025795754\n",
      "{}\n",
      "FOUND BINARIES AND OPS IN ['C:/Users/kmm171/Desktop/Data/gut_tectum/20230914_7dpf/fish1/54_huch2bgcamp6s_7dpf_unfed_mono_L_20230914/img_stack_1\\\\suite2p\\\\plane0\\\\ops.npy']\n",
      ">>>>>>>>>>>>>>>>>>>>> PLANE 0 <<<<<<<<<<<<<<<<<<<<<<\n",
      "NOTE: not running registration, plane already registered\n",
      "binary path: C:/Users/kmm171/Desktop/Data/gut_tectum/20230914_7dpf/fish1/54_huch2bgcamp6s_7dpf_unfed_mono_L_20230914/img_stack_1\\suite2p\\plane0\\data.bin\n",
      "NOTE: applying default C:\\Users\\kmm171\\.suite2p\\classifiers\\classifier_user.npy\n",
      "----------- ROI DETECTION\n",
      "Binning movie in chunks of length 03\n",
      "Binned movie of size [575,238,238] created in 0.52 sec.\n",
      "NOTE: estimated spatial scale ~12 pixels, time epochs 1.00, threshold 10.00 \n",
      "0 ROIs, score=111.09\n",
      "Detected 519 ROIs, 11.92 sec\n",
      "['compact', 'npix_norm']\n",
      "Preclassify threshold 0.15, 355 ROIs removed\n",
      "After removing overlaps, 145 ROIs remain\n",
      "----------- Total 13.86 sec.\n",
      "----------- EXTRACTION\n",
      "Masks created, 0.13 sec.\n",
      "Extracted fluorescence from 145 ROIs in 1725 frames, 0.83 sec.\n",
      "----------- Total 1.01 sec.\n",
      "----------- CLASSIFICATION\n",
      "['compact', 'npix_norm', 'skew']\n",
      "----------- SPIKE DECONVOLUTION\n",
      "----------- Total 0.02 sec.\n",
      "Plane 0 processed in 14.97 sec (can open in GUI).\n",
      "total = 15.03 sec.\n",
      "TOTAL RUNTIME 15.03 sec\n"
     ]
    },
    {
     "name": "stderr",
     "output_type": "stream",
     "text": [
      "planes:  67%|██████▋   | 2/3 [00:36<00:17, 17.79s/it]"
     ]
    },
    {
     "name": "stdout",
     "output_type": "stream",
     "text": [
      "imaging rate: 2.071713147410359\n",
      "{}\n",
      "FOUND BINARIES AND OPS IN ['C:/Users/kmm171/Desktop/Data/gut_tectum/20230914_7dpf/fish1/54_huch2bgcamp6s_7dpf_unfed_mono_L_20230914/img_stack_2\\\\suite2p\\\\plane0\\\\ops.npy']\n",
      ">>>>>>>>>>>>>>>>>>>>> PLANE 0 <<<<<<<<<<<<<<<<<<<<<<\n",
      "NOTE: not running registration, plane already registered\n",
      "binary path: C:/Users/kmm171/Desktop/Data/gut_tectum/20230914_7dpf/fish1/54_huch2bgcamp6s_7dpf_unfed_mono_L_20230914/img_stack_2\\suite2p\\plane0\\data.bin\n",
      "NOTE: applying default C:\\Users\\kmm171\\.suite2p\\classifiers\\classifier_user.npy\n",
      "----------- ROI DETECTION\n",
      "Binning movie in chunks of length 03\n",
      "Binned movie of size [574,242,242] created in 0.50 sec.\n",
      "NOTE: estimated spatial scale ~12 pixels, time epochs 1.00, threshold 10.00 \n",
      "0 ROIs, score=146.55\n",
      "Detected 384 ROIs, 7.47 sec\n",
      "['compact', 'npix_norm']\n",
      "Preclassify threshold 0.15, 264 ROIs removed\n",
      "After removing overlaps, 114 ROIs remain\n",
      "----------- Total 8.87 sec.\n",
      "----------- EXTRACTION\n",
      "Masks created, 0.09 sec.\n",
      "Extracted fluorescence from 114 ROIs in 1724 frames, 0.78 sec.\n",
      "----------- Total 0.93 sec.\n",
      "----------- CLASSIFICATION\n",
      "['compact', 'npix_norm', 'skew']\n",
      "----------- SPIKE DECONVOLUTION\n",
      "----------- Total 0.02 sec.\n",
      "Plane 0 processed in 9.89 sec (can open in GUI).\n",
      "total = 9.95 sec.\n",
      "TOTAL RUNTIME 9.95 sec\n"
     ]
    },
    {
     "name": "stderr",
     "output_type": "stream",
     "text": [
      "planes: 100%|██████████| 3/3 [00:46<00:00, 15.58s/it]"
     ]
    },
    {
     "name": "stdout",
     "output_type": "stream",
     "text": [
      "imaging rate: 1.9652305366591094\n"
     ]
    },
    {
     "name": "stderr",
     "output_type": "stream",
     "text": [
      "\n"
     ]
    }
   ],
   "source": [
    "for fish, volfish in fishSchool.items():\n",
    "    volfish.volumeSuite2p(input_tau=1.5, force=True)"
   ],
   "metadata": {
    "collapsed": false
   }
  },
  {
   "cell_type": "code",
   "execution_count": 6,
   "outputs": [
    {
     "name": "stderr",
     "output_type": "stream",
     "text": [
      "log files successfully copied: 100%|██████████| 3/3 [00:00<00:00, 120.36it/s]\n",
      "stim_output files successfully copied: 100%|██████████| 3/3 [00:00<00:00, 187.94it/s]\n"
     ]
    }
   ],
   "source": [
    "for fish, datapath in fishpaths.items():\n",
    "    basePath = Path(datapath)\n",
    "    fish_paths = []\n",
    "\n",
    "    with os.scandir(Path(datapath)) as entries:\n",
    "        for entry in entries:\n",
    "            if os.path.isdir(entry.path) and 'img_stack' in entry.name:\n",
    "                fish_paths.append(entry.path)\n",
    "\n",
    "    #copy log and output files to each stack folder\n",
    "    for file_name in os.listdir(Path(datapath)):\n",
    "        if 'log' in file_name and file_name.endswith(\".txt\"):\n",
    "            log_source = datapath + \"\\\\\" + file_name\n",
    "            if os.path.isfile(log_source) and os.path.isfile(log_source):\n",
    "                for destination in tqdm(fish_paths, desc=\"log files successfully copied\"):\n",
    "                    shutil.copy(log_source, destination)\n",
    "\n",
    "    for file_name in os.listdir(Path(datapath)):\n",
    "        if 'output' in file_name and file_name.endswith(\".txt\"):\n",
    "            output_source = datapath + \"\\\\\" + file_name\n",
    "            if os.path.isfile(output_source) and os.path.isfile(output_source):\n",
    "                for destination in tqdm(fish_paths, desc=\"stim_output files successfully copied\"):\n",
    "                    shutil.copy(output_source, destination)\n",
    "\n"
   ],
   "metadata": {
    "collapsed": false
   }
  },
  {
   "cell_type": "markdown",
   "source": [
    "#remove the extra tif file\n",
    "with os.scandir(Path(datapath)) as entries:\n",
    "    for entry in entries:\n",
    "        if \"img_stack\" in entry.name:\n",
    "            orig_tif = os.path.join(entry.path)\n",
    "            with os.scandir(Path(orig_tif)) as file:\n",
    "                for f in file:\n",
    "                    if f.name.endswith(\".tif\") and \"movement_corr_img\" not in f.name:\n",
    "                        os.remove(f)"
   ],
   "metadata": {
    "collapsed": false
   }
  }
 ],
 "metadata": {
  "kernelspec": {
   "display_name": "Python 3",
   "language": "python",
   "name": "python3"
  },
  "language_info": {
   "codemirror_mode": {
    "name": "ipython",
    "version": 2
   },
   "file_extension": ".py",
   "mimetype": "text/x-python",
   "name": "python",
   "nbconvert_exporter": "python",
   "pygments_lexer": "ipython2",
   "version": "2.7.6"
  }
 },
 "nbformat": 4,
 "nbformat_minor": 0
}
